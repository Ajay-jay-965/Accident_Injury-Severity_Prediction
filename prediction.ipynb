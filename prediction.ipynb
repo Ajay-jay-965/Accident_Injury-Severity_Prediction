{
 "cells": [
  {
   "cell_type": "code",
   "execution_count": 1,
   "id": "brutal-building",
   "metadata": {},
   "outputs": [],
   "source": [
    "from keras.models import load_model\n",
    "import pandas as pd\n",
    "import numpy as np\n",
    "from sklearn.preprocessing import StandardScaler\n"
   ]
  },
  {
   "cell_type": "markdown",
   "id": "blessed-tourism",
   "metadata": {},
   "source": [
    "# Test dataset"
   ]
  },
  {
   "cell_type": "code",
   "execution_count": 2,
   "id": "attended-saturday",
   "metadata": {},
   "outputs": [
    {
     "data": {
      "text/plain": [
       "(200, 98)"
      ]
     },
     "execution_count": 2,
     "metadata": {},
     "output_type": "execute_result"
    }
   ],
   "source": [
    "x=pd.read_csv('ftest.csv')\n",
    "x.head(3)\n",
    "x.shape"
   ]
  },
  {
   "cell_type": "markdown",
   "id": "accepted-paragraph",
   "metadata": {},
   "source": [
    "# scaling the data"
   ]
  },
  {
   "cell_type": "code",
   "execution_count": 3,
   "id": "located-kruger",
   "metadata": {},
   "outputs": [],
   "source": [
    "sc = StandardScaler()\n",
    "X_test = sc.fit_transform(x)"
   ]
  },
  {
   "cell_type": "markdown",
   "id": "twenty-effectiveness",
   "metadata": {},
   "source": [
    "# loading the trained_model"
   ]
  },
  {
   "cell_type": "code",
   "execution_count": 4,
   "id": "rising-feelings",
   "metadata": {},
   "outputs": [
    {
     "name": "stdout",
     "output_type": "stream",
     "text": [
      "Model: \"sequential\"\n",
      "_________________________________________________________________\n",
      "Layer (type)                 Output Shape              Param #   \n",
      "=================================================================\n",
      "dense (Dense)                (None, 600)               59400     \n",
      "_________________________________________________________________\n",
      "dense_1 (Dense)              (None, 400)               240400    \n",
      "_________________________________________________________________\n",
      "dense_2 (Dense)              (None, 200)               80200     \n",
      "_________________________________________________________________\n",
      "dense_3 (Dense)              (None, 100)               20100     \n",
      "_________________________________________________________________\n",
      "dense_4 (Dense)              (None, 50)                5050      \n",
      "_________________________________________________________________\n",
      "dense_5 (Dense)              (None, 80)                4080      \n",
      "_________________________________________________________________\n",
      "dense_6 (Dense)              (None, 8)                 648       \n",
      "=================================================================\n",
      "Total params: 409,878\n",
      "Trainable params: 409,878\n",
      "Non-trainable params: 0\n",
      "_________________________________________________________________\n"
     ]
    }
   ],
   "source": [
    "model=load_model('fmodel72.h5')\n",
    "model.summary()"
   ]
  },
  {
   "cell_type": "code",
   "execution_count": 13,
   "id": "vital-learning",
   "metadata": {},
   "outputs": [
    {
     "data": {
      "text/plain": [
       "(10, 8)"
      ]
     },
     "execution_count": 13,
     "metadata": {},
     "output_type": "execute_result"
    }
   ],
   "source": [
    "y_pred=model.predict(X_test[0:10])\n",
    "y_pred.shape"
   ]
  },
  {
   "cell_type": "code",
   "execution_count": 14,
   "id": "neither-pizza",
   "metadata": {},
   "outputs": [
    {
     "data": {
      "text/plain": [
       "[1, 1, 5, 5, 4, 1, 1, 2, 1, 4]"
      ]
     },
     "execution_count": 14,
     "metadata": {},
     "output_type": "execute_result"
    }
   ],
   "source": [
    "y_predicted_labels = [np.argmax(i) for i in y_pred]\n",
    "y_predicted_labels[:10]"
   ]
  },
  {
   "cell_type": "markdown",
   "id": "helpful-harvey",
   "metadata": {},
   "source": [
    "# making the predictions"
   ]
  },
  {
   "cell_type": "code",
   "execution_count": 15,
   "id": "single-league",
   "metadata": {},
   "outputs": [],
   "source": [
    "prediction=pd.DataFrame(y_predicted_labels,columns=[\"Injury_severity(prediction)\"])\n",
    "prediction=prediction.replace({0:'Died_prior_to_accident',1:'Fatal_Injury',2:'Incapaciting_Injury',3:'Injured_Severity_Unknown',4:'No_Injury',5:'Nonincapaciting_Evident_Injury',6:'Possible_Injury',7:'Unknown'})"
   ]
  },
  {
   "cell_type": "code",
   "execution_count": 16,
   "id": "severe-performance",
   "metadata": {},
   "outputs": [
    {
     "data": {
      "text/html": [
       "<div>\n",
       "<style scoped>\n",
       "    .dataframe tbody tr th:only-of-type {\n",
       "        vertical-align: middle;\n",
       "    }\n",
       "\n",
       "    .dataframe tbody tr th {\n",
       "        vertical-align: top;\n",
       "    }\n",
       "\n",
       "    .dataframe thead th {\n",
       "        text-align: right;\n",
       "    }\n",
       "</style>\n",
       "<table border=\"1\" class=\"dataframe\">\n",
       "  <thead>\n",
       "    <tr style=\"text-align: right;\">\n",
       "      <th></th>\n",
       "      <th>Injury_severity(prediction)</th>\n",
       "    </tr>\n",
       "  </thead>\n",
       "  <tbody>\n",
       "    <tr>\n",
       "      <th>0</th>\n",
       "      <td>Fatal_Injury</td>\n",
       "    </tr>\n",
       "    <tr>\n",
       "      <th>1</th>\n",
       "      <td>Fatal_Injury</td>\n",
       "    </tr>\n",
       "    <tr>\n",
       "      <th>2</th>\n",
       "      <td>Nonincapaciting_Evident_Injury</td>\n",
       "    </tr>\n",
       "    <tr>\n",
       "      <th>3</th>\n",
       "      <td>Nonincapaciting_Evident_Injury</td>\n",
       "    </tr>\n",
       "    <tr>\n",
       "      <th>4</th>\n",
       "      <td>No_Injury</td>\n",
       "    </tr>\n",
       "    <tr>\n",
       "      <th>5</th>\n",
       "      <td>Fatal_Injury</td>\n",
       "    </tr>\n",
       "    <tr>\n",
       "      <th>6</th>\n",
       "      <td>Fatal_Injury</td>\n",
       "    </tr>\n",
       "    <tr>\n",
       "      <th>7</th>\n",
       "      <td>Incapaciting_Injury</td>\n",
       "    </tr>\n",
       "    <tr>\n",
       "      <th>8</th>\n",
       "      <td>Fatal_Injury</td>\n",
       "    </tr>\n",
       "    <tr>\n",
       "      <th>9</th>\n",
       "      <td>No_Injury</td>\n",
       "    </tr>\n",
       "  </tbody>\n",
       "</table>\n",
       "</div>"
      ],
      "text/plain": [
       "      Injury_severity(prediction)\n",
       "0                    Fatal_Injury\n",
       "1                    Fatal_Injury\n",
       "2  Nonincapaciting_Evident_Injury\n",
       "3  Nonincapaciting_Evident_Injury\n",
       "4                       No_Injury\n",
       "5                    Fatal_Injury\n",
       "6                    Fatal_Injury\n",
       "7             Incapaciting_Injury\n",
       "8                    Fatal_Injury\n",
       "9                       No_Injury"
      ]
     },
     "execution_count": 16,
     "metadata": {},
     "output_type": "execute_result"
    }
   ],
   "source": [
    "prediction"
   ]
  },
  {
   "cell_type": "code",
   "execution_count": 17,
   "id": "important-carnival",
   "metadata": {},
   "outputs": [
    {
     "data": {
      "text/html": [
       "<div>\n",
       "<style scoped>\n",
       "    .dataframe tbody tr th:only-of-type {\n",
       "        vertical-align: middle;\n",
       "    }\n",
       "\n",
       "    .dataframe tbody tr th {\n",
       "        vertical-align: top;\n",
       "    }\n",
       "\n",
       "    .dataframe thead th {\n",
       "        text-align: right;\n",
       "    }\n",
       "</style>\n",
       "<table border=\"1\" class=\"dataframe\">\n",
       "  <thead>\n",
       "    <tr style=\"text-align: right;\">\n",
       "      <th></th>\n",
       "      <th>INJURY_SEVERITY</th>\n",
       "    </tr>\n",
       "  </thead>\n",
       "  <tbody>\n",
       "    <tr>\n",
       "      <th>100</th>\n",
       "      <td>Fatal_Injury</td>\n",
       "    </tr>\n",
       "    <tr>\n",
       "      <th>101</th>\n",
       "      <td>Fatal_Injury</td>\n",
       "    </tr>\n",
       "    <tr>\n",
       "      <th>102</th>\n",
       "      <td>Incapaciting_Injury</td>\n",
       "    </tr>\n",
       "    <tr>\n",
       "      <th>103</th>\n",
       "      <td>Incapaciting_Injury</td>\n",
       "    </tr>\n",
       "    <tr>\n",
       "      <th>104</th>\n",
       "      <td>No_Injury</td>\n",
       "    </tr>\n",
       "    <tr>\n",
       "      <th>105</th>\n",
       "      <td>Nonincapaciting_Evident_Injury</td>\n",
       "    </tr>\n",
       "    <tr>\n",
       "      <th>106</th>\n",
       "      <td>Fatal_Injury</td>\n",
       "    </tr>\n",
       "    <tr>\n",
       "      <th>107</th>\n",
       "      <td>Incapaciting_Injury</td>\n",
       "    </tr>\n",
       "    <tr>\n",
       "      <th>108</th>\n",
       "      <td>Fatal_Injury</td>\n",
       "    </tr>\n",
       "    <tr>\n",
       "      <th>109</th>\n",
       "      <td>Fatal_Injury</td>\n",
       "    </tr>\n",
       "  </tbody>\n",
       "</table>\n",
       "</div>"
      ],
      "text/plain": [
       "                    INJURY_SEVERITY\n",
       "100                    Fatal_Injury\n",
       "101                    Fatal_Injury\n",
       "102             Incapaciting_Injury\n",
       "103             Incapaciting_Injury\n",
       "104                       No_Injury\n",
       "105  Nonincapaciting_Evident_Injury\n",
       "106                    Fatal_Injury\n",
       "107             Incapaciting_Injury\n",
       "108                    Fatal_Injury\n",
       "109                    Fatal_Injury"
      ]
     },
     "execution_count": 17,
     "metadata": {},
     "output_type": "execute_result"
    }
   ],
   "source": [
    "test=pd.read_csv('table1.csv',usecols=['INJURY_SEVERITY'])\n",
    "test=test[100:110] #since saved test dataset records starts from 100 index\n",
    "test"
   ]
  },
  {
   "cell_type": "code",
   "execution_count": 18,
   "id": "desirable-minutes",
   "metadata": {},
   "outputs": [],
   "source": [
    "import seaborn as sns\n",
    "import matplotlib.pyplot as plt\n",
    "%matplotlib inline \n"
   ]
  },
  {
   "cell_type": "markdown",
   "id": "facial-transportation",
   "metadata": {},
   "source": [
    "# Confusion metrics"
   ]
  },
  {
   "cell_type": "code",
   "execution_count": 19,
   "id": "hungarian-arbitration",
   "metadata": {},
   "outputs": [],
   "source": [
    "from sklearn import metrics\n",
    "from sklearn.metrics import confusion_matrix"
   ]
  },
  {
   "cell_type": "code",
   "execution_count": 20,
   "id": "failing-brazilian",
   "metadata": {},
   "outputs": [
    {
     "data": {
      "text/plain": [
       "<AxesSubplot:>"
      ]
     },
     "execution_count": 20,
     "metadata": {},
     "output_type": "execute_result"
    },
    {
     "data": {
      "image/png": "[encoded data removed]",
      "text/plain": [
       "<Figure size 432x288 with 2 Axes>"
      ]
     },
     "metadata": {
      "needs_background": "light"
     },
     "output_type": "display_data"
    }
   ],
   "source": [
    "cm=confusion_matrix(prediction,test)\n",
    "sns.heatmap(cm,annot=True)"
   ]
  },
  {
   "cell_type": "code",
   "execution_count": 21,
   "id": "committed-breed",
   "metadata": {},
   "outputs": [
    {
     "name": "stdout",
     "output_type": "stream",
     "text": [
      "[[0 0 0 0 0 0 0 0]\n",
      " [0 4 0 0 1 0 0 0]\n",
      " [0 0 1 0 0 2 0 0]\n",
      " [0 0 0 0 0 0 0 0]\n",
      " [0 0 0 0 1 0 0 0]\n",
      " [0 1 0 0 0 0 0 0]\n",
      " [0 0 0 0 0 0 0 0]\n",
      " [0 0 0 0 0 0 0 0]]\n",
      "                                precision    recall  f1-score   support\n",
      "\n",
      "        Died_prior_to_accident       0.00      0.00      0.00         0\n",
      "                  Fatal_Injury       0.80      0.80      0.80         5\n",
      "           Incapaciting_Injury       1.00      0.33      0.50         3\n",
      "      Injured_Severity_Unknown       0.00      0.00      0.00         0\n",
      "                     No_Injury       0.50      1.00      0.67         1\n",
      "Nonincapaciting_Evident_Injury       0.00      0.00      0.00         1\n",
      "               Possible_Injury       0.00      0.00      0.00         0\n",
      "                       Unknown       0.00      0.00      0.00         0\n",
      "\n",
      "                     micro avg       0.60      0.60      0.60        10\n",
      "                     macro avg       0.29      0.27      0.25        10\n",
      "                  weighted avg       0.75      0.60      0.62        10\n",
      "\n"
     ]
    },
    {
     "name": "stderr",
     "output_type": "stream",
     "text": [
      "C:\\Users\\surya\\anaconda3\\envs\\mini\\lib\\site-packages\\sklearn\\metrics\\_classification.py:1245: UndefinedMetricWarning: Precision and F-score are ill-defined and being set to 0.0 in labels with no predicted samples. Use `zero_division` parameter to control this behavior.\n",
      "  _warn_prf(average, modifier, msg_start, len(result))\n",
      "C:\\Users\\surya\\anaconda3\\envs\\mini\\lib\\site-packages\\sklearn\\metrics\\_classification.py:1245: UndefinedMetricWarning: Recall and F-score are ill-defined and being set to 0.0 in labels with no true samples. Use `zero_division` parameter to control this behavior.\n",
      "  _warn_prf(average, modifier, msg_start, len(result))\n",
      "C:\\Users\\surya\\anaconda3\\envs\\mini\\lib\\site-packages\\sklearn\\metrics\\_classification.py:1245: UndefinedMetricWarning: Precision and F-score are ill-defined and being set to 0.0 in labels with no predicted samples. Use `zero_division` parameter to control this behavior.\n",
      "  _warn_prf(average, modifier, msg_start, len(result))\n",
      "C:\\Users\\surya\\anaconda3\\envs\\mini\\lib\\site-packages\\sklearn\\metrics\\_classification.py:1245: UndefinedMetricWarning: Recall and F-score are ill-defined and being set to 0.0 in labels with no true samples. Use `zero_division` parameter to control this behavior.\n",
      "  _warn_prf(average, modifier, msg_start, len(result))\n",
      "C:\\Users\\surya\\anaconda3\\envs\\mini\\lib\\site-packages\\sklearn\\metrics\\_classification.py:1245: UndefinedMetricWarning: Precision and F-score are ill-defined and being set to 0.0 in labels with no predicted samples. Use `zero_division` parameter to control this behavior.\n",
      "  _warn_prf(average, modifier, msg_start, len(result))\n",
      "C:\\Users\\surya\\anaconda3\\envs\\mini\\lib\\site-packages\\sklearn\\metrics\\_classification.py:1245: UndefinedMetricWarning: Recall and F-score are ill-defined and being set to 0.0 in labels with no true samples. Use `zero_division` parameter to control this behavior.\n",
      "  _warn_prf(average, modifier, msg_start, len(result))\n"
     ]
    }
   ],
   "source": [
    "print(metrics.confusion_matrix(test,prediction, labels=['Died_prior_to_accident','Fatal_Injury','Incapaciting_Injury','Injured_Severity_Unknown','No_Injury','Nonincapaciting_Evident_Injury','Possible_Injury','Unknown']))\n",
    "# Printing the precision and recall, among other metrics\n",
    "print(metrics.classification_report(test,prediction, labels=['Died_prior_to_accident','Fatal_Injury','Incapaciting_Injury','Injured_Severity_Unknown','No_Injury','Nonincapaciting_Evident_Injury','Possible_Injury','Unknown']))"
   ]
  },
  {
   "cell_type": "code",
   "execution_count": null,
   "id": "metric-bacon",
   "metadata": {},
   "outputs": [],
   "source": []
  }
 ],
 "metadata": {
  "kernelspec": {
   "display_name": "Python 3",
   "language": "python",
   "name": "python3"
  },
  "language_info": {
   "codemirror_mode": {
    "name": "ipython",
    "version": 3
   },
   "file_extension": ".py",
   "mimetype": "text/x-python",
   "name": "python",
   "nbconvert_exporter": "python",
   "pygments_lexer": "ipython3",
   "version": "3.7.9"
  }
 },
 "nbformat": 4,
 "nbformat_minor": 5
}
